{
 "cells": [
  {
   "cell_type": "code",
   "execution_count": 4,
   "metadata": {},
   "outputs": [
    {
     "data": {
      "text/plain": [
       "'deepcnn.png'"
      ]
     },
     "execution_count": 4,
     "metadata": {},
     "output_type": "execute_result"
    }
   ],
   "source": [
    "from torchviz import make_dot\n",
    "from models.deep_cnn import DeepCNN\n",
    "from models.simple_cnn import SimpleCNN\n",
    "from models.cnn_with_fc import CNNWithFC\n",
    "import torch\n",
    "\n",
    "model = DeepCNN()  # or SimpleCNN(), CNNWithFC()\n",
    "x = torch.randn(1, 3, 32, 32)  # example input\n",
    "y = model(x)\n",
    "\n",
    "make_dot(y, params=dict(model.named_parameters())).render(\"deepcnn\", format=\"png\")\n"
   ]
  },
  {
   "cell_type": "code",
   "execution_count": null,
   "metadata": {},
   "outputs": [],
   "source": []
  }
 ],
 "metadata": {
  "kernelspec": {
   "display_name": "Python 3",
   "language": "python",
   "name": "python3"
  },
  "language_info": {
   "codemirror_mode": {
    "name": "ipython",
    "version": 3
   },
   "file_extension": ".py",
   "mimetype": "text/x-python",
   "name": "python",
   "nbconvert_exporter": "python",
   "pygments_lexer": "ipython3",
   "version": "3.12.1"
  }
 },
 "nbformat": 4,
 "nbformat_minor": 2
}
