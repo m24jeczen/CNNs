{
 "cells": [
  {
   "cell_type": "code",
   "execution_count": 3,
   "metadata": {},
   "outputs": [
    {
     "name": "stdout",
     "output_type": "stream",
     "text": [
      "Using device: cuda\n"
     ]
    }
   ],
   "source": [
    "import torch\n",
    "\n",
    "torch.manual_seed(42)\n",
    "\n",
    "device = torch.device(\"cuda\" if torch.cuda.is_available() else \"cpu\")\n",
    "print(f\"Using device: {device}\")"
   ]
  },
  {
   "cell_type": "code",
   "execution_count": 1,
   "metadata": {},
   "outputs": [
    {
     "name": "stdout",
     "output_type": "stream",
     "text": [
      "\n",
      "TRAIN SET:\n",
      "  airplane: 9000 images\n",
      "  automobile: 9000 images\n",
      "  bird: 9000 images\n",
      "  cat: 9000 images\n",
      "  deer: 9000 images\n",
      "  dog: 9000 images\n",
      "  frog: 9000 images\n",
      "  horse: 9000 images\n",
      "  ship: 9000 images\n",
      "  truck: 9000 images\n",
      "\n",
      "TEST SET:\n",
      "  airplane: 9000 images\n",
      "  automobile: 9000 images\n",
      "  bird: 9000 images\n",
      "  cat: 9000 images\n",
      "  deer: 9000 images\n",
      "  dog: 9000 images\n",
      "  frog: 9000 images\n",
      "  horse: 9000 images\n",
      "  ship: 9000 images\n",
      "  truck: 9000 images\n",
      "\n",
      "VALID SET:\n",
      "  airplane: 9000 images\n",
      "  automobile: 9000 images\n",
      "  bird: 9000 images\n",
      "  cat: 9000 images\n",
      "  deer: 9000 images\n",
      "  dog: 9000 images\n",
      "  frog: 9000 images\n",
      "  horse: 9000 images\n",
      "  ship: 9000 images\n",
      "  truck: 9000 images\n"
     ]
    }
   ],
   "source": [
    "import os\n",
    "\n",
    "def count_images_in_folders(data_dir):\n",
    "    sets = ['train', 'test', 'valid']  # CINIC-10 has these three folders\n",
    "    class_counts = {}\n",
    "\n",
    "    for dataset in sets:\n",
    "        folder_path = os.path.join(data_dir, dataset)\n",
    "        if not os.path.exists(folder_path):\n",
    "            print(f\"Warning: {folder_path} does not exist. Skipping.\")\n",
    "            continue\n",
    "        \n",
    "        print(f\"\\n{dataset.upper()} SET:\")\n",
    "        for class_name in sorted(os.listdir(folder_path)):  # Sort to maintain order\n",
    "            class_path = os.path.join(folder_path, class_name)\n",
    "            if os.path.isdir(class_path):  # Ensure it's a folder\n",
    "                num_images = len(os.listdir(class_path))\n",
    "                class_counts[f\"{dataset}/{class_name}\"] = num_images\n",
    "                print(f\"  {class_name}: {num_images} images\")\n",
    "\n",
    "    return class_counts\n",
    "\n",
    "# Set the path to your CINIC-10 dataset directory\n",
    "data_dir = \"./data\"  # Change this to your dataset path\n",
    "\n",
    "# Run the function\n",
    "class_counts = count_images_in_folders(data_dir)\n"
   ]
  }
 ],
 "metadata": {
  "kernelspec": {
   "display_name": "Python 3",
   "language": "python",
   "name": "python3"
  },
  "language_info": {
   "codemirror_mode": {
    "name": "ipython",
    "version": 3
   },
   "file_extension": ".py",
   "mimetype": "text/x-python",
   "name": "python",
   "nbconvert_exporter": "python",
   "pygments_lexer": "ipython3",
   "version": "3.12.1"
  }
 },
 "nbformat": 4,
 "nbformat_minor": 2
}
